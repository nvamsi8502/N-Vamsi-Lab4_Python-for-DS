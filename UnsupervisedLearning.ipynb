{
 "cells": [
  {
   "cell_type": "markdown",
   "id": "d58e9012-0cb7-4c26-9061-9c2a4b8f9dde",
   "metadata": {},
   "source": [
    "**Q1:** **Import Libraries** "
   ]
  },
  {
   "cell_type": "code",
   "execution_count": 1,
   "id": "4e7de5f4-f589-41f8-914d-df4d4c32df75",
   "metadata": {},
   "outputs": [],
   "source": [
    "import pandas as pd\n",
    "import numpy as np\n",
    "import matplotlib.pyplot as plt\n",
    "import seaborn as sns"
   ]
  },
  {
   "cell_type": "markdown",
   "id": "a77f8e31-49fc-4b11-b758-5dab52229655",
   "metadata": {},
   "source": [
    "**Q2. Load the CSV file (i.e marketing.csv) and display the first 5 rows of the dataframe. Check the shape and info of the dataset.**"
   ]
  },
  {
   "cell_type": "code",
   "execution_count": 2,
   "id": "f8aaac33-a441-473d-9755-399e529ff076",
   "metadata": {},
   "outputs": [],
   "source": [
    "df = pd.read_csv(\"C:/Users/Testbook/Downloads/Lab 4 - Unsu[ervised learinng/marketing.csv\")"
   ]
  },
  {
   "cell_type": "code",
   "execution_count": 3,
   "id": "3e33386d-87b8-4824-bebe-fd2edf1f849c",
   "metadata": {},
   "outputs": [
    {
     "data": {
      "text/html": [
       "<div>\n",
       "<style scoped>\n",
       "    .dataframe tbody tr th:only-of-type {\n",
       "        vertical-align: middle;\n",
       "    }\n",
       "\n",
       "    .dataframe tbody tr th {\n",
       "        vertical-align: top;\n",
       "    }\n",
       "\n",
       "    .dataframe thead th {\n",
       "        text-align: right;\n",
       "    }\n",
       "</style>\n",
       "<table border=\"1\" class=\"dataframe\">\n",
       "  <thead>\n",
       "    <tr style=\"text-align: right;\">\n",
       "      <th></th>\n",
       "      <th>ID</th>\n",
       "      <th>Year_Birth</th>\n",
       "      <th>Education</th>\n",
       "      <th>Marital_Status</th>\n",
       "      <th>Income</th>\n",
       "      <th>Kidhome</th>\n",
       "      <th>Teenhome</th>\n",
       "      <th>Dt_Customer</th>\n",
       "      <th>Recency</th>\n",
       "      <th>MntWines</th>\n",
       "      <th>...</th>\n",
       "      <th>NumCatalogPurchases</th>\n",
       "      <th>NumStorePurchases</th>\n",
       "      <th>NumWebVisitsMonth</th>\n",
       "      <th>AcceptedCmp3</th>\n",
       "      <th>AcceptedCmp4</th>\n",
       "      <th>AcceptedCmp5</th>\n",
       "      <th>AcceptedCmp1</th>\n",
       "      <th>AcceptedCmp2</th>\n",
       "      <th>Complain</th>\n",
       "      <th>Response</th>\n",
       "    </tr>\n",
       "  </thead>\n",
       "  <tbody>\n",
       "    <tr>\n",
       "      <th>0</th>\n",
       "      <td>5524</td>\n",
       "      <td>1957</td>\n",
       "      <td>Graduation</td>\n",
       "      <td>Single</td>\n",
       "      <td>58138.0</td>\n",
       "      <td>0</td>\n",
       "      <td>0</td>\n",
       "      <td>4/9/2012</td>\n",
       "      <td>58</td>\n",
       "      <td>635</td>\n",
       "      <td>...</td>\n",
       "      <td>10</td>\n",
       "      <td>4</td>\n",
       "      <td>7</td>\n",
       "      <td>0</td>\n",
       "      <td>0</td>\n",
       "      <td>0</td>\n",
       "      <td>0</td>\n",
       "      <td>0</td>\n",
       "      <td>0</td>\n",
       "      <td>1</td>\n",
       "    </tr>\n",
       "    <tr>\n",
       "      <th>1</th>\n",
       "      <td>2174</td>\n",
       "      <td>1954</td>\n",
       "      <td>Graduation</td>\n",
       "      <td>Single</td>\n",
       "      <td>46344.0</td>\n",
       "      <td>1</td>\n",
       "      <td>1</td>\n",
       "      <td>8/3/2014</td>\n",
       "      <td>38</td>\n",
       "      <td>11</td>\n",
       "      <td>...</td>\n",
       "      <td>1</td>\n",
       "      <td>2</td>\n",
       "      <td>5</td>\n",
       "      <td>0</td>\n",
       "      <td>0</td>\n",
       "      <td>0</td>\n",
       "      <td>0</td>\n",
       "      <td>0</td>\n",
       "      <td>0</td>\n",
       "      <td>0</td>\n",
       "    </tr>\n",
       "    <tr>\n",
       "      <th>2</th>\n",
       "      <td>4141</td>\n",
       "      <td>1965</td>\n",
       "      <td>Graduation</td>\n",
       "      <td>Together</td>\n",
       "      <td>71613.0</td>\n",
       "      <td>0</td>\n",
       "      <td>0</td>\n",
       "      <td>21-08-2013</td>\n",
       "      <td>26</td>\n",
       "      <td>426</td>\n",
       "      <td>...</td>\n",
       "      <td>2</td>\n",
       "      <td>10</td>\n",
       "      <td>4</td>\n",
       "      <td>0</td>\n",
       "      <td>0</td>\n",
       "      <td>0</td>\n",
       "      <td>0</td>\n",
       "      <td>0</td>\n",
       "      <td>0</td>\n",
       "      <td>0</td>\n",
       "    </tr>\n",
       "    <tr>\n",
       "      <th>3</th>\n",
       "      <td>6182</td>\n",
       "      <td>1984</td>\n",
       "      <td>Graduation</td>\n",
       "      <td>Together</td>\n",
       "      <td>26646.0</td>\n",
       "      <td>1</td>\n",
       "      <td>0</td>\n",
       "      <td>10/2/2014</td>\n",
       "      <td>26</td>\n",
       "      <td>11</td>\n",
       "      <td>...</td>\n",
       "      <td>0</td>\n",
       "      <td>4</td>\n",
       "      <td>6</td>\n",
       "      <td>0</td>\n",
       "      <td>0</td>\n",
       "      <td>0</td>\n",
       "      <td>0</td>\n",
       "      <td>0</td>\n",
       "      <td>0</td>\n",
       "      <td>0</td>\n",
       "    </tr>\n",
       "    <tr>\n",
       "      <th>4</th>\n",
       "      <td>5324</td>\n",
       "      <td>1981</td>\n",
       "      <td>PhD</td>\n",
       "      <td>Married</td>\n",
       "      <td>58293.0</td>\n",
       "      <td>1</td>\n",
       "      <td>0</td>\n",
       "      <td>19-01-2014</td>\n",
       "      <td>94</td>\n",
       "      <td>173</td>\n",
       "      <td>...</td>\n",
       "      <td>3</td>\n",
       "      <td>6</td>\n",
       "      <td>5</td>\n",
       "      <td>0</td>\n",
       "      <td>0</td>\n",
       "      <td>0</td>\n",
       "      <td>0</td>\n",
       "      <td>0</td>\n",
       "      <td>0</td>\n",
       "      <td>0</td>\n",
       "    </tr>\n",
       "  </tbody>\n",
       "</table>\n",
       "<p>5 rows × 27 columns</p>\n",
       "</div>"
      ],
      "text/plain": [
       "     ID  Year_Birth   Education Marital_Status   Income  Kidhome  Teenhome  \\\n",
       "0  5524        1957  Graduation         Single  58138.0        0         0   \n",
       "1  2174        1954  Graduation         Single  46344.0        1         1   \n",
       "2  4141        1965  Graduation       Together  71613.0        0         0   \n",
       "3  6182        1984  Graduation       Together  26646.0        1         0   \n",
       "4  5324        1981         PhD        Married  58293.0        1         0   \n",
       "\n",
       "  Dt_Customer  Recency  MntWines  ...  NumCatalogPurchases  NumStorePurchases  \\\n",
       "0    4/9/2012       58       635  ...                   10                  4   \n",
       "1    8/3/2014       38        11  ...                    1                  2   \n",
       "2  21-08-2013       26       426  ...                    2                 10   \n",
       "3   10/2/2014       26        11  ...                    0                  4   \n",
       "4  19-01-2014       94       173  ...                    3                  6   \n",
       "\n",
       "   NumWebVisitsMonth  AcceptedCmp3  AcceptedCmp4  AcceptedCmp5  AcceptedCmp1  \\\n",
       "0                  7             0             0             0             0   \n",
       "1                  5             0             0             0             0   \n",
       "2                  4             0             0             0             0   \n",
       "3                  6             0             0             0             0   \n",
       "4                  5             0             0             0             0   \n",
       "\n",
       "   AcceptedCmp2  Complain  Response  \n",
       "0             0         0         1  \n",
       "1             0         0         0  \n",
       "2             0         0         0  \n",
       "3             0         0         0  \n",
       "4             0         0         0  \n",
       "\n",
       "[5 rows x 27 columns]"
      ]
     },
     "execution_count": 3,
     "metadata": {},
     "output_type": "execute_result"
    }
   ],
   "source": [
    "df.head()\n"
   ]
  },
  {
   "cell_type": "code",
   "execution_count": 4,
   "id": "d81644a4-ce70-4cbc-ab5c-52f00514c46e",
   "metadata": {},
   "outputs": [
    {
     "name": "stdout",
     "output_type": "stream",
     "text": [
      "(2240, 27)\n",
      "<bound method DataFrame.info of          ID  Year_Birth   Education Marital_Status   Income  Kidhome  \\\n",
      "0      5524        1957  Graduation         Single  58138.0        0   \n",
      "1      2174        1954  Graduation         Single  46344.0        1   \n",
      "2      4141        1965  Graduation       Together  71613.0        0   \n",
      "3      6182        1984  Graduation       Together  26646.0        1   \n",
      "4      5324        1981         PhD        Married  58293.0        1   \n",
      "...     ...         ...         ...            ...      ...      ...   \n",
      "2235  10870        1967  Graduation        Married  61223.0        0   \n",
      "2236   4001        1946         PhD       Together  64014.0        2   \n",
      "2237   7270        1981  Graduation       Divorced  56981.0        0   \n",
      "2238   8235        1956      Master       Together  69245.0        0   \n",
      "2239   9405        1954         PhD        Married  52869.0        1   \n",
      "\n",
      "      Teenhome Dt_Customer  Recency  MntWines  ...  NumCatalogPurchases  \\\n",
      "0            0    4/9/2012       58       635  ...                   10   \n",
      "1            1    8/3/2014       38        11  ...                    1   \n",
      "2            0  21-08-2013       26       426  ...                    2   \n",
      "3            0   10/2/2014       26        11  ...                    0   \n",
      "4            0  19-01-2014       94       173  ...                    3   \n",
      "...        ...         ...      ...       ...  ...                  ...   \n",
      "2235         1  13-06-2013       46       709  ...                    3   \n",
      "2236         1   10/6/2014       56       406  ...                    2   \n",
      "2237         0  25-01-2014       91       908  ...                    3   \n",
      "2238         1  24-01-2014        8       428  ...                    5   \n",
      "2239         1  15-10-2012       40        84  ...                    1   \n",
      "\n",
      "      NumStorePurchases  NumWebVisitsMonth  AcceptedCmp3  AcceptedCmp4  \\\n",
      "0                     4                  7             0             0   \n",
      "1                     2                  5             0             0   \n",
      "2                    10                  4             0             0   \n",
      "3                     4                  6             0             0   \n",
      "4                     6                  5             0             0   \n",
      "...                 ...                ...           ...           ...   \n",
      "2235                  4                  5             0             0   \n",
      "2236                  5                  7             0             0   \n",
      "2237                 13                  6             0             1   \n",
      "2238                 10                  3             0             0   \n",
      "2239                  4                  7             0             0   \n",
      "\n",
      "      AcceptedCmp5  AcceptedCmp1  AcceptedCmp2  Complain  Response  \n",
      "0                0             0             0         0         1  \n",
      "1                0             0             0         0         0  \n",
      "2                0             0             0         0         0  \n",
      "3                0             0             0         0         0  \n",
      "4                0             0             0         0         0  \n",
      "...            ...           ...           ...       ...       ...  \n",
      "2235             0             0             0         0         0  \n",
      "2236             0             1             0         0         0  \n",
      "2237             0             0             0         0         0  \n",
      "2238             0             0             0         0         0  \n",
      "2239             0             0             0         0         1  \n",
      "\n",
      "[2240 rows x 27 columns]>\n"
     ]
    }
   ],
   "source": [
    "print(df.shape)\n",
    "print(df.info)"
   ]
  },
  {
   "cell_type": "markdown",
   "id": "de8ab82b-4a2d-42a2-bd64-82a2e4a7b4c7",
   "metadata": {},
   "source": [
    "**Q3. Check the percentage of missing values? If there is presence of missing values, treat them accordingly.**"
   ]
  },
  {
   "cell_type": "code",
   "execution_count": 5,
   "id": "cb7e24d9-0daf-47b9-9e7c-d55102f17695",
   "metadata": {},
   "outputs": [
    {
     "name": "stdout",
     "output_type": "stream",
     "text": [
      "ID                     0.000000\n",
      "Year_Birth             0.000000\n",
      "Education              0.000000\n",
      "Marital_Status         0.000000\n",
      "Income                 1.071429\n",
      "Kidhome                0.000000\n",
      "Teenhome               0.000000\n",
      "Dt_Customer            0.000000\n",
      "Recency                0.000000\n",
      "MntWines               0.000000\n",
      "MntFruits              0.000000\n",
      "MntMeatProducts        0.000000\n",
      "MntFishProducts        0.000000\n",
      "MntSweetProducts       0.000000\n",
      "MntGoldProds           0.000000\n",
      "NumDealsPurchases      0.000000\n",
      "NumWebPurchases        0.000000\n",
      "NumCatalogPurchases    0.000000\n",
      "NumStorePurchases      0.000000\n",
      "NumWebVisitsMonth      0.000000\n",
      "AcceptedCmp3           0.000000\n",
      "AcceptedCmp4           0.000000\n",
      "AcceptedCmp5           0.000000\n",
      "AcceptedCmp1           0.000000\n",
      "AcceptedCmp2           0.000000\n",
      "Complain               0.000000\n",
      "Response               0.000000\n",
      "dtype: float64\n"
     ]
    }
   ],
   "source": [
    "missing_values = df.isnull().sum()\n",
    "total_rows = len(df)\n",
    "percentage_of_missing_values = (missing_values/total_rows)*100\n",
    "print(percentage_of_missing_values)"
   ]
  },
  {
   "cell_type": "markdown",
   "id": "2b3684f9-4f79-4c55-845a-ece92ae4ea99",
   "metadata": {},
   "source": [
    "**Q4. Check if there are any duplicate records in the dataset, If any drop them.**\n"
   ]
  },
  {
   "cell_type": "code",
   "execution_count": 6,
   "id": "829b44af-96fe-485e-b264-9950bdc9eca0",
   "metadata": {},
   "outputs": [
    {
     "name": "stdout",
     "output_type": "stream",
     "text": [
      "         ID  Year_Birth   Education Marital_Status   Income  Kidhome  \\\n",
      "0      5524        1957  Graduation         Single  58138.0        0   \n",
      "1      2174        1954  Graduation         Single  46344.0        1   \n",
      "2      4141        1965  Graduation       Together  71613.0        0   \n",
      "3      6182        1984  Graduation       Together  26646.0        1   \n",
      "4      5324        1981         PhD        Married  58293.0        1   \n",
      "...     ...         ...         ...            ...      ...      ...   \n",
      "2235  10870        1967  Graduation        Married  61223.0        0   \n",
      "2236   4001        1946         PhD       Together  64014.0        2   \n",
      "2237   7270        1981  Graduation       Divorced  56981.0        0   \n",
      "2238   8235        1956      Master       Together  69245.0        0   \n",
      "2239   9405        1954         PhD        Married  52869.0        1   \n",
      "\n",
      "      Teenhome Dt_Customer  Recency  MntWines  ...  NumCatalogPurchases  \\\n",
      "0            0    4/9/2012       58       635  ...                   10   \n",
      "1            1    8/3/2014       38        11  ...                    1   \n",
      "2            0  21-08-2013       26       426  ...                    2   \n",
      "3            0   10/2/2014       26        11  ...                    0   \n",
      "4            0  19-01-2014       94       173  ...                    3   \n",
      "...        ...         ...      ...       ...  ...                  ...   \n",
      "2235         1  13-06-2013       46       709  ...                    3   \n",
      "2236         1   10/6/2014       56       406  ...                    2   \n",
      "2237         0  25-01-2014       91       908  ...                    3   \n",
      "2238         1  24-01-2014        8       428  ...                    5   \n",
      "2239         1  15-10-2012       40        84  ...                    1   \n",
      "\n",
      "      NumStorePurchases  NumWebVisitsMonth  AcceptedCmp3  AcceptedCmp4  \\\n",
      "0                     4                  7             0             0   \n",
      "1                     2                  5             0             0   \n",
      "2                    10                  4             0             0   \n",
      "3                     4                  6             0             0   \n",
      "4                     6                  5             0             0   \n",
      "...                 ...                ...           ...           ...   \n",
      "2235                  4                  5             0             0   \n",
      "2236                  5                  7             0             0   \n",
      "2237                 13                  6             0             1   \n",
      "2238                 10                  3             0             0   \n",
      "2239                  4                  7             0             0   \n",
      "\n",
      "      AcceptedCmp5  AcceptedCmp1  AcceptedCmp2  Complain  Response  \n",
      "0                0             0             0         0         1  \n",
      "1                0             0             0         0         0  \n",
      "2                0             0             0         0         0  \n",
      "3                0             0             0         0         0  \n",
      "4                0             0             0         0         0  \n",
      "...            ...           ...           ...       ...       ...  \n",
      "2235             0             0             0         0         0  \n",
      "2236             0             1             0         0         0  \n",
      "2237             0             0             0         0         0  \n",
      "2238             0             0             0         0         0  \n",
      "2239             0             0             0         0         1  \n",
      "\n",
      "[2240 rows x 27 columns]\n"
     ]
    }
   ],
   "source": [
    "duplicates = df.drop_duplicates()\n",
    "print(duplicates)"
   ]
  },
  {
   "cell_type": "markdown",
   "id": "4ebb2d03-19fa-4daa-8b62-bb3c5f2991a9",
   "metadata": {},
   "source": [
    "**Q5. Drop the columns which you think redundant for the analysis** "
   ]
  },
  {
   "cell_type": "code",
   "execution_count": 7,
   "id": "b584fe3f-c61a-4e50-b5f2-5c2e50cf2660",
   "metadata": {},
   "outputs": [],
   "source": [
    "df = df.drop(columns=['Dt_Customer', 'ID'])\n"
   ]
  },
  {
   "cell_type": "code",
   "execution_count": 8,
   "id": "fe937997-5f0c-4c19-bdaf-2a1810ae5e7e",
   "metadata": {},
   "outputs": [
    {
     "name": "stdout",
     "output_type": "stream",
     "text": [
      "   Year_Birth   Education Marital_Status   Income  Kidhome  Teenhome  Recency  \\\n",
      "0        1957  Graduation         Single  58138.0        0         0       58   \n",
      "1        1954  Graduation         Single  46344.0        1         1       38   \n",
      "2        1965  Graduation       Together  71613.0        0         0       26   \n",
      "3        1984  Graduation       Together  26646.0        1         0       26   \n",
      "4        1981         PhD        Married  58293.0        1         0       94   \n",
      "\n",
      "   MntWines  MntFruits  MntMeatProducts  ...  NumCatalogPurchases  \\\n",
      "0       635         88              546  ...                   10   \n",
      "1        11          1                6  ...                    1   \n",
      "2       426         49              127  ...                    2   \n",
      "3        11          4               20  ...                    0   \n",
      "4       173         43              118  ...                    3   \n",
      "\n",
      "   NumStorePurchases  NumWebVisitsMonth  AcceptedCmp3  AcceptedCmp4  \\\n",
      "0                  4                  7             0             0   \n",
      "1                  2                  5             0             0   \n",
      "2                 10                  4             0             0   \n",
      "3                  4                  6             0             0   \n",
      "4                  6                  5             0             0   \n",
      "\n",
      "   AcceptedCmp5  AcceptedCmp1  AcceptedCmp2  Complain  Response  \n",
      "0             0             0             0         0         1  \n",
      "1             0             0             0         0         0  \n",
      "2             0             0             0         0         0  \n",
      "3             0             0             0         0         0  \n",
      "4             0             0             0         0         0  \n",
      "\n",
      "[5 rows x 25 columns]\n"
     ]
    }
   ],
   "source": [
    "print(df.head())"
   ]
  },
  {
   "cell_type": "markdown",
   "id": "16078be1-f39a-41d9-96a5-f9a82bf7f17e",
   "metadata": {},
   "source": [
    "**Q6. Check the unique categories in the column 'Marital_Status'**\r",
    "**\n",
    "- i) Group categories 'Married', 'Together' as 'relationship**'**\r\n",
    "- ii) Group categories 'Divorced', 'Widow', 'Alone', 'YOLO', and 'Absurd' as 'Single**'."
   ]
  },
  {
   "cell_type": "code",
   "execution_count": 9,
   "id": "f61ac035-fcc3-456f-b568-9aec198dea92",
   "metadata": {},
   "outputs": [
    {
     "name": "stdout",
     "output_type": "stream",
     "text": [
      "<bound method Series.unique of 0         Single\n",
      "1         Single\n",
      "2       Together\n",
      "3       Together\n",
      "4        Married\n",
      "          ...   \n",
      "2235     Married\n",
      "2236    Together\n",
      "2237    Divorced\n",
      "2238    Together\n",
      "2239     Married\n",
      "Name: Marital_Status, Length: 2240, dtype: object>\n"
     ]
    }
   ],
   "source": [
    "uniques = df['Marital_Status'].unique\n",
    "print(uniques)"
   ]
  },
  {
   "cell_type": "code",
   "execution_count": 10,
   "id": "21065ace-98df-40e4-9580-ed8ed8aa6670",
   "metadata": {},
   "outputs": [
    {
     "name": "stdout",
     "output_type": "stream",
     "text": [
      "0             Single\n",
      "1             Single\n",
      "2       relationship\n",
      "3       relationship\n",
      "4       relationship\n",
      "            ...     \n",
      "2235    relationship\n",
      "2236    relationship\n",
      "2237          Single\n",
      "2238    relationship\n",
      "2239    relationship\n",
      "Name: Marital_Status, Length: 2240, dtype: object\n"
     ]
    }
   ],
   "source": [
    "df['Marital_Status'] = df['Marital_Status'].replace({'Married': 'relationship', 'Together': 'relationship'})\n",
    "df['Marital_Status'] = df['Marital_Status'].replace({'Divorced': 'Single','Widow': 'Single','Alone': 'Single','Absurd': 'Single','YOlO':'Single'})\n",
    "print(df['Marital_Status'])\n"
   ]
  },
  {
   "cell_type": "markdown",
   "id": "5b2fc895-f081-47f1-979a-dbfc182786d6",
   "metadata": {},
   "source": [
    "**Q7 Group the columns 'MntWines', 'MntFruits', 'MntMeatProducts', 'MntFishProducts', 'MntSweetProducts', and 'MntGoldProds' as 'Total_Expenses'**"
   ]
  },
  {
   "cell_type": "code",
   "execution_count": 11,
   "id": "42c7bc71-554b-4b89-975b-0610bc2c6818",
   "metadata": {},
   "outputs": [
    {
     "name": "stdout",
     "output_type": "stream",
     "text": [
      "0       1617\n",
      "1         27\n",
      "2        776\n",
      "3         53\n",
      "4        422\n",
      "        ... \n",
      "2235    1341\n",
      "2236     444\n",
      "2237    1241\n",
      "2238     843\n",
      "2239     172\n",
      "Name: Total_Expenses, Length: 2240, dtype: int64\n"
     ]
    }
   ],
   "source": [
    "df['Total_Expenses'] = df[['MntWines', 'MntFruits', 'MntMeatProducts', 'MntFishProducts', 'MntSweetProducts', 'MntGoldProds']].sum(axis=1)\n",
    "print(df['Total_Expenses'])"
   ]
  },
  {
   "cell_type": "markdown",
   "id": "564d08ea-2f69-4723-a1bc-0994b629713e",
   "metadata": {},
   "source": [
    "**Q8. Group the columns 'NumWebPurchases', 'NumCatalogPurchases', 'NumStorePurchases', and 'NumDealsPurchases' as 'Num_Total_Purchases'**"
   ]
  },
  {
   "cell_type": "code",
   "execution_count": 12,
   "id": "ceefdc9e-73c4-4b92-a9f6-c3b037824fac",
   "metadata": {},
   "outputs": [
    {
     "name": "stdout",
     "output_type": "stream",
     "text": [
      "0       25\n",
      "1        6\n",
      "2       21\n",
      "3        8\n",
      "4       19\n",
      "        ..\n",
      "2235    18\n",
      "2236    22\n",
      "2237    19\n",
      "2238    23\n",
      "2239    11\n",
      "Name: Num_Total_Purchases, Length: 2240, dtype: int64\n"
     ]
    }
   ],
   "source": [
    "df['Num_Total_Purchases'] = df[['NumWebPurchases','NumCatalogPurchases','NumStorePurchases','NumDealsPurchases']].sum(axis=1)\n",
    "print(df['Num_Total_Purchases'])"
   ]
  },
  {
   "cell_type": "markdown",
   "id": "c84b399b-374e-4ba4-882e-fc73f1a89344",
   "metadata": {},
   "source": [
    "**Q9. Group the columns 'Kidhome' and 'Teenhome' as 'Kids'**"
   ]
  },
  {
   "cell_type": "code",
   "execution_count": 13,
   "id": "d3e97659-fb15-4d15-aece-53113ed9363a",
   "metadata": {},
   "outputs": [
    {
     "name": "stdout",
     "output_type": "stream",
     "text": [
      "0       0\n",
      "1       2\n",
      "2       0\n",
      "3       1\n",
      "4       1\n",
      "       ..\n",
      "2235    1\n",
      "2236    3\n",
      "2237    0\n",
      "2238    1\n",
      "2239    2\n",
      "Name: Kids, Length: 2240, dtype: int64\n"
     ]
    }
   ],
   "source": [
    "df['Kids'] = df[['Kidhome','Teenhome']].sum(axis=1)\n",
    "print(df['Kids'])"
   ]
  },
  {
   "cell_type": "markdown",
   "id": "2780ba12-7bee-4794-8a14-e631eb823cfe",
   "metadata": {},
   "source": [
    "**Q10. Group columns 'AcceptedCmp1 , 2 , 3 , 4, 5' and 'Response' as 'TotalAcceptedCmp'**"
   ]
  },
  {
   "cell_type": "code",
   "execution_count": 14,
   "id": "e334a8ff-a161-4c11-a238-04fa491bf1d3",
   "metadata": {},
   "outputs": [
    {
     "name": "stdout",
     "output_type": "stream",
     "text": [
      "0       1\n",
      "1       0\n",
      "2       0\n",
      "3       0\n",
      "4       0\n",
      "       ..\n",
      "2235    0\n",
      "2236    1\n",
      "2237    1\n",
      "2238    0\n",
      "2239    1\n",
      "Name: TotalAcceptedCmp, Length: 2240, dtype: int64\n"
     ]
    }
   ],
   "source": [
    "df['TotalAcceptedCmp'] = df['AcceptedCmp1'] + df['AcceptedCmp2'] + df['AcceptedCmp3'] + df['AcceptedCmp4'] + df['AcceptedCmp5'] + df['Response']\n",
    "print(df['TotalAcceptedCmp'])"
   ]
  },
  {
   "cell_type": "markdown",
   "id": "4cfb3e36-4f0d-482d-b21e-664a235809e6",
   "metadata": {},
   "source": [
    "**Q11. Drop those columns which we have used above for obtaining new features**"
   ]
  },
  {
   "cell_type": "code",
   "execution_count": 15,
   "id": "afd32599-ba40-4270-87c7-0aa1a6beeda0",
   "metadata": {},
   "outputs": [
    {
     "name": "stdout",
     "output_type": "stream",
     "text": [
      "   Year_Birth   Education Marital_Status   Income  Recency  NumWebVisitsMonth  \\\n",
      "0        1957  Graduation         Single  58138.0       58                  7   \n",
      "1        1954  Graduation         Single  46344.0       38                  5   \n",
      "2        1965  Graduation   relationship  71613.0       26                  4   \n",
      "3        1984  Graduation   relationship  26646.0       26                  6   \n",
      "4        1981         PhD   relationship  58293.0       94                  5   \n",
      "\n",
      "   Complain  Response  Total_Expenses  Num_Total_Purchases  Kids  \\\n",
      "0         0         1            1617                   25     0   \n",
      "1         0         0              27                    6     2   \n",
      "2         0         0             776                   21     0   \n",
      "3         0         0              53                    8     1   \n",
      "4         0         0             422                   19     1   \n",
      "\n",
      "   TotalAcceptedCmp  \n",
      "0                 1  \n",
      "1                 0  \n",
      "2                 0  \n",
      "3                 0  \n",
      "4                 0  \n"
     ]
    }
   ],
   "source": [
    "df = df.drop(columns=['AcceptedCmp1','AcceptedCmp2','AcceptedCmp3','AcceptedCmp4','AcceptedCmp5','Kidhome','Teenhome','NumWebPurchases','NumCatalogPurchases','NumStorePurchases','NumDealsPurchases','MntWines', 'MntFruits', 'MntMeatProducts', 'MntFishProducts', 'MntSweetProducts', 'MntGoldProds'])\n",
    "print(df.head())"
   ]
  },
  {
   "cell_type": "code",
   "execution_count": 16,
   "id": "077c7c63-fde4-4015-89e9-7967c3a0eccc",
   "metadata": {},
   "outputs": [
    {
     "name": "stdout",
     "output_type": "stream",
     "text": [
      "The current year is: 2024\n"
     ]
    }
   ],
   "source": [
    "import datetime\n",
    "\n",
    "# Get the current date and time\n",
    "current_datetime = datetime.datetime.now()\n",
    "\n",
    "# Extract the current year\n",
    "current_year = current_datetime.year\n",
    "\n",
    "print(f\"The current year is: {current_year}\")\n",
    "\n",
    "\n",
    "# Extract age from 'Year_Birth' column\n",
    "df['Age'] = current_year - df['Year_Birth']\n",
    "\n",
    "# Drop the 'Year_Birth' column\n",
    "df = df.drop(columns=['Year_Birth'])\n"
   ]
  },
  {
   "cell_type": "code",
   "execution_count": 18,
   "id": "98373fe4-44b1-4322-af28-f7e85eb426b6",
   "metadata": {},
   "outputs": [
    {
     "name": "stdout",
     "output_type": "stream",
     "text": [
      "    Education Marital_Status   Income  Recency  NumWebVisitsMonth  Complain  \\\n",
      "0  Graduation         Single  58138.0       58                  7         0   \n",
      "1  Graduation         Single  46344.0       38                  5         0   \n",
      "2  Graduation   relationship  71613.0       26                  4         0   \n",
      "3  Graduation   relationship  26646.0       26                  6         0   \n",
      "4         PhD   relationship  58293.0       94                  5         0   \n",
      "\n",
      "   Response  Total_Expenses  Num_Total_Purchases  Kids  TotalAcceptedCmp  Age  \n",
      "0         1            1617                   25     0                 1   67  \n",
      "1         0              27                    6     2                 0   70  \n",
      "2         0             776                   21     0                 0   59  \n",
      "3         0              53                    8     1                 0   40  \n",
      "4         0             422                   19     1                 0   43  \n"
     ]
    }
   ],
   "source": [
    "print(df.head())"
   ]
  },
  {
   "cell_type": "markdown",
   "id": "b5aa9f7c-55b4-4a49-b9d1-d6f1d47d6733",
   "metadata": {},
   "source": [
    "**Q13. Encode the categorical variables in the dataset**"
   ]
  },
  {
   "cell_type": "code",
   "execution_count": 19,
   "id": "f7253c3e-0a0d-441c-9330-44d9804e6960",
   "metadata": {},
   "outputs": [
    {
     "name": "stdout",
     "output_type": "stream",
     "text": [
      "      Education  Marital_Status   Income  Recency  NumWebVisitsMonth  \\\n",
      "0             2               0  58138.0       58                  7   \n",
      "1             2               0  46344.0       38                  5   \n",
      "2             2               2  71613.0       26                  4   \n",
      "3             2               2  26646.0       26                  6   \n",
      "4             4               2  58293.0       94                  5   \n",
      "...         ...             ...      ...      ...                ...   \n",
      "2235          2               2  61223.0       46                  5   \n",
      "2236          4               2  64014.0       56                  7   \n",
      "2237          2               0  56981.0       91                  6   \n",
      "2238          3               2  69245.0        8                  3   \n",
      "2239          4               2  52869.0       40                  7   \n",
      "\n",
      "      Complain  Response  Total_Expenses  Num_Total_Purchases  Kids  \\\n",
      "0            0         1            1617                   25     0   \n",
      "1            0         0              27                    6     2   \n",
      "2            0         0             776                   21     0   \n",
      "3            0         0              53                    8     1   \n",
      "4            0         0             422                   19     1   \n",
      "...        ...       ...             ...                  ...   ...   \n",
      "2235         0         0            1341                   18     1   \n",
      "2236         0         0             444                   22     3   \n",
      "2237         0         0            1241                   19     0   \n",
      "2238         0         0             843                   23     1   \n",
      "2239         0         1             172                   11     2   \n",
      "\n",
      "      TotalAcceptedCmp  Age  \n",
      "0                    1   67  \n",
      "1                    0   70  \n",
      "2                    0   59  \n",
      "3                    0   40  \n",
      "4                    0   43  \n",
      "...                ...  ...  \n",
      "2235                 0   57  \n",
      "2236                 1   78  \n",
      "2237                 1   43  \n",
      "2238                 0   68  \n",
      "2239                 1   70  \n",
      "\n",
      "[2240 rows x 12 columns]\n"
     ]
    }
   ],
   "source": [
    "import pandas as pd\n",
    "from sklearn.preprocessing import LabelEncoder\n",
    "\n",
    "\n",
    "\n",
    "df = pd.DataFrame(df)\n",
    "\n",
    "# Ensure categorical columns are of type string (if not already)\n",
    "df['Education'] = df['Education'].astype(str)\n",
    "df['Marital_Status'] = df['Marital_Status'].astype(str)\n",
    "\n",
    "# Initialize LabelEncoder\n",
    "lbl_encode = LabelEncoder()\n",
    "\n",
    "# List of categorical columns to encode\n",
    "cate = ['Education', 'Marital_Status']\n",
    "\n",
    "# Apply LabelEncoder to each column\n",
    "for col in cate:\n",
    "    df[col] = lbl_encode.fit_transform(df[col])\n",
    "\n",
    "print(df)\n"
   ]
  },
  {
   "cell_type": "markdown",
   "id": "e76da011-aab1-4da3-9eda-f242324b1b98",
   "metadata": {},
   "source": [
    "**Q14. Standardize the columns, so that values are in a particular range**"
   ]
  },
  {
   "cell_type": "code",
   "execution_count": 21,
   "id": "935ce156-3345-434b-b03e-cf7090d832bf",
   "metadata": {},
   "outputs": [],
   "source": [
    "from sklearn.preprocessing import StandardScaler\n",
    "df1 = df.copy()\n",
    "scaled_features= StandardScaler().fit_transform(df1.values)\n",
    "scaled_features = pd.DataFrame(scaled_features, index = df1.index, columns = df1.columns)"
   ]
  },
  {
   "cell_type": "code",
   "execution_count": 81,
   "id": "4d705f2b-b407-4ffa-b33d-45737028ad93",
   "metadata": {},
   "outputs": [
    {
     "name": "stdout",
     "output_type": "stream",
     "text": [
      "Standardized Dataarame (StandardScaler):\n",
      "      Education  Marital_Status    Income   Recency  NumWebVisitsMonth  \\\n",
      "0     -0.787809       -1.346889  0.234063  0.307039           0.693904   \n",
      "1     -0.787809       -1.346889 -0.234559 -0.383664          -0.130463   \n",
      "2     -0.787809        0.736696  0.769478 -0.798086          -0.542647   \n",
      "3     -0.787809        0.736696 -1.017239 -0.798086           0.281720   \n",
      "4      1.072700        0.736696  0.240221  1.550305          -0.130463   \n",
      "...         ...             ...       ...       ...                ...   \n",
      "2235  -0.787809        0.736696  0.356642 -0.107383          -0.130463   \n",
      "2236   1.072700        0.736696  0.467539  0.237969           0.693904   \n",
      "2237  -0.787809       -1.346889  0.188091  1.446700           0.281720   \n",
      "2238   0.142445        0.736696  0.675388 -1.419719          -0.954831   \n",
      "2239   1.072700        0.736696  0.024705 -0.314594           0.693904   \n",
      "\n",
      "      Complain  Response  Total_Expenses  Num_Total_Purchases      Kids  \\\n",
      "0    -0.097282  2.388846        1.679417             1.320826 -1.264505   \n",
      "1    -0.097282 -0.418612       -0.961275            -1.154596  1.396361   \n",
      "2    -0.097282 -0.418612        0.282673             0.799685 -1.264505   \n",
      "3    -0.097282 -0.418612       -0.918094            -0.894025  0.065928   \n",
      "4    -0.097282 -0.418612       -0.305254             0.539114  0.065928   \n",
      "...        ...       ...             ...                  ...       ...   \n",
      "2235 -0.097282 -0.418612        1.221032             0.408829  0.065928   \n",
      "2236 -0.097282 -0.418612       -0.268717             0.929970  2.726794   \n",
      "2237 -0.097282 -0.418612        1.054951             0.539114 -1.264505   \n",
      "2238 -0.097282 -0.418612        0.393948             1.060255  0.065928   \n",
      "2239 -0.097282  2.388846       -0.720458            -0.503169  1.396361   \n",
      "\n",
      "      TotalAcceptedCmp       Age  \n",
      "0             0.621248  0.985345  \n",
      "1            -0.501912  1.235733  \n",
      "2            -0.501912  0.317643  \n",
      "3            -0.501912 -1.268149  \n",
      "4            -0.501912 -1.017761  \n",
      "...                ...       ...  \n",
      "2235         -0.501912  0.150717  \n",
      "2236          0.621248  1.903435  \n",
      "2237          0.621248 -1.017761  \n",
      "2238         -0.501912  1.068807  \n",
      "2239          0.621248  1.235733  \n",
      "\n",
      "[2240 rows x 12 columns]\n"
     ]
    }
   ],
   "source": [
    "from sklearn.preprocessing import StandardScaler\n",
    "import pandas as pd\n",
    "df = pd.DataFrame(df)\n",
    "\n",
    "# Initialize StandardScaler\n",
    "scaler = StandardScaler()\n",
    "\n",
    "# Fit and transform the data\n",
    "standardized_data = scaler.fit_transform(df)\n",
    "\n",
    "# Convert standardized data back to DataFrame\n",
    "df_standardized = pd.DataFrame(standardized_data, columns=df.columns)\n",
    "\n",
    "# Display the standardized DataFrame\n",
    "print(\"Standardized Dataarame (StandardScaler):\")\n",
    "print(df_standardized)"
   ]
  },
  {
   "cell_type": "markdown",
   "id": "93516d66-363a-4e4c-b443-0618b2429902",
   "metadata": {},
   "source": [
    "**Q15. Apply PCA on the above dataset and determine the number of PCA components to be used so that 90-95% of the variance in data is explained by the same.**"
   ]
  },
  {
   "cell_type": "code",
   "execution_count": 22,
   "id": "1bd360b1-5772-414f-bc17-127cd7b6e4f0",
   "metadata": {},
   "outputs": [
    {
     "data": {
      "text/plain": [
       "array([[ 1.00044663, -0.01243073,         nan, -0.01173369, -0.04029882,\n",
       "        -0.05056252,  0.09086006,  0.09209518,  0.09405439,  0.05321304,\n",
       "         0.06327892,  0.17146685],\n",
       "       [-0.01243073,  1.00044663,         nan, -0.00600029,  0.00447736,\n",
       "        -0.00529951, -0.14933796, -0.01804797,  0.007219  ,  0.03926773,\n",
       "        -0.06003259, -0.00456858],\n",
       "       [        nan,         nan,         nan,         nan,         nan,\n",
       "                nan,         nan,         nan,         nan,         nan,\n",
       "                nan,         nan],\n",
       "       [-0.01173369, -0.00600029,         nan,  1.00044663, -0.02145427,\n",
       "         0.01323699, -0.19852527,  0.02044173,  0.00574294,  0.01806145,\n",
       "        -0.08900203,  0.01987996],\n",
       "       [-0.04029882,  0.00447736,         nan, -0.02145427,  1.00044663,\n",
       "         0.01977734, -0.00398838, -0.50044131, -0.31242795,  0.41860616,\n",
       "        -0.12836726, -0.12119336],\n",
       "       [-0.05056252, -0.00529951,         nan,  0.01323699,  0.01977734,\n",
       "         1.00044663, -0.00170773, -0.03707503, -0.02059185,  0.03108014,\n",
       "        -0.01761676,  0.030141  ],\n",
       "       [ 0.09086006, -0.14933796,         nan, -0.19852527, -0.00398838,\n",
       "        -0.00170773,  1.00044663,  0.2654165 ,  0.15520739, -0.16923901,\n",
       "         0.72492356, -0.02133474],\n",
       "       [ 0.09209518, -0.01804797,         nan,  0.02044173, -0.50044131,\n",
       "        -0.03707503,  0.2654165 ,  1.00044663,  0.75423984, -0.49911047,\n",
       "         0.4564099 ,  0.11135611],\n",
       "       [ 0.09405439,  0.007219  ,         nan,  0.00574294, -0.31242795,\n",
       "        -0.02059185,  0.15520739,  0.75423984,  1.00044663, -0.24589955,\n",
       "         0.25816052,  0.16837908],\n",
       "       [ 0.05321304,  0.03926773,         nan,  0.01806145,  0.41860616,\n",
       "         0.03108014, -0.16923901, -0.49911047, -0.24589955,  1.00044663,\n",
       "        -0.25387372,  0.09023955],\n",
       "       [ 0.06327892, -0.06003259,         nan, -0.08900203, -0.12836726,\n",
       "        -0.01761676,  0.72492356,  0.4564099 ,  0.25816052, -0.25387372,\n",
       "         1.00044663, -0.00830618],\n",
       "       [ 0.17146685, -0.00456858,         nan,  0.01987996, -0.12119336,\n",
       "         0.030141  , -0.02133474,  0.11135611,  0.16837908,  0.09023955,\n",
       "        -0.00830618,  1.00044663]])"
      ]
     },
     "execution_count": 22,
     "metadata": {},
     "output_type": "execute_result"
    }
   ],
   "source": [
    "cov_matrix = np.cov(scaled_features.T)\n",
    "cov_matrix"
   ]
  },
  {
   "cell_type": "code",
   "execution_count": 28,
   "id": "fdf43a8b-aca4-4d40-962c-9c7281c780e9",
   "metadata": {},
   "outputs": [
    {
     "data": {
      "image/png": "[encoded data removed]",
      "text/plain": [
       "<Figure size 640x480 with 1 Axes>"
      ]
     },
     "metadata": {},
     "output_type": "display_data"
    }
   ],
   "source": [
    "import numpy as np\n",
    "import pandas as pd\n",
    "import matplotlib.pyplot as plt\n",
    "from sklearn.preprocessing import StandardScaler\n",
    "from sklearn.decomposition import PCA\n",
    "from sklearn.impute import SimpleImputer\n",
    "\n",
    "# Assuming df is your dataframe\n",
    "df1 = df.copy()\n",
    "\n",
    "# Impute missing values\n",
    "imputer = SimpleImputer(strategy='mean')  # You can choose 'median', 'most_frequent', or 'constant' as well\n",
    "df1_imputed = imputer.fit_transform(df1.values)\n",
    "\n",
    "# Scale the features\n",
    "scaled_features = StandardScaler().fit_transform(df1_imputed)\n",
    "\n",
    "# Perform PCA\n",
    "pca = PCA()\n",
    "pca.fit(scaled_features)\n",
    "eig_vals = pca.explained_variance_\n",
    "\n",
    "# Calculate explained variance and cumulative explained variance\n",
    "total = sum(eig_vals)\n",
    "var_exp = [(i / total) * 100 for i in eig_vals]\n",
    "cum_var_exp = np.cumsum(var_exp)\n",
    "\n",
    "# Plotting the scree plot for the first 10 components or up to the number of components if less than 10\n",
    "num_components = min(10, len(eig_vals))\n",
    "\n",
    "plt.bar(range(num_components), var_exp[:num_components], align='center', color='lightgreen', edgecolor='black', label='Explained Variance')\n",
    "plt.step(range(num_components), cum_var_exp[:num_components], where='mid', color='red', label='Cumulative Explained Variance')\n",
    "plt.xlabel('Principal Components')\n",
    "plt.ylabel('Explained Variance Ratio')\n",
    "plt.title('Scree Plot')\n",
    "plt.legend(loc='best')\n",
    "plt.show()\n"
   ]
  },
  {
   "cell_type": "markdown",
   "id": "e53a4ab2-68ef-43d6-ad46-db9d51335576",
   "metadata": {},
   "source": [
    "**Q16. Apply K-means clustering and segment the data (Use PCA transformed data for clustering)**"
   ]
  },
  {
   "cell_type": "code",
   "execution_count": 29,
   "id": "8a366e78-efe7-4e29-a978-b58dd4b959ea",
   "metadata": {},
   "outputs": [
    {
     "data": {
      "text/html": [
       "<div>\n",
       "<style scoped>\n",
       "    .dataframe tbody tr th:only-of-type {\n",
       "        vertical-align: middle;\n",
       "    }\n",
       "\n",
       "    .dataframe tbody tr th {\n",
       "        vertical-align: top;\n",
       "    }\n",
       "\n",
       "    .dataframe thead th {\n",
       "        text-align: right;\n",
       "    }\n",
       "</style>\n",
       "<table border=\"1\" class=\"dataframe\">\n",
       "  <thead>\n",
       "    <tr style=\"text-align: right;\">\n",
       "      <th></th>\n",
       "      <th>PC1</th>\n",
       "      <th>PC2</th>\n",
       "      <th>PC3</th>\n",
       "      <th>PC4</th>\n",
       "      <th>PC5</th>\n",
       "      <th>PC6</th>\n",
       "      <th>PC7</th>\n",
       "      <th>PC8</th>\n",
       "    </tr>\n",
       "  </thead>\n",
       "  <tbody>\n",
       "    <tr>\n",
       "      <th>0</th>\n",
       "      <td>2.514325</td>\n",
       "      <td>-1.552339</td>\n",
       "      <td>0.318201</td>\n",
       "      <td>0.981064</td>\n",
       "      <td>-0.886404</td>\n",
       "      <td>0.199466</td>\n",
       "      <td>-1.105991</td>\n",
       "      <td>0.083926</td>\n",
       "    </tr>\n",
       "    <tr>\n",
       "      <th>1</th>\n",
       "      <td>-1.571369</td>\n",
       "      <td>0.097692</td>\n",
       "      <td>1.035807</td>\n",
       "      <td>0.665269</td>\n",
       "      <td>-0.709478</td>\n",
       "      <td>-1.314297</td>\n",
       "      <td>-0.880970</td>\n",
       "      <td>0.610945</td>\n",
       "    </tr>\n",
       "    <tr>\n",
       "      <th>2</th>\n",
       "      <td>1.117953</td>\n",
       "      <td>0.996039</td>\n",
       "      <td>-0.581080</td>\n",
       "      <td>-0.629267</td>\n",
       "      <td>0.822096</td>\n",
       "      <td>-0.760299</td>\n",
       "      <td>-0.088673</td>\n",
       "      <td>0.170417</td>\n",
       "    </tr>\n",
       "    <tr>\n",
       "      <th>3</th>\n",
       "      <td>-1.787528</td>\n",
       "      <td>-0.388468</td>\n",
       "      <td>-1.064651</td>\n",
       "      <td>-0.856060</td>\n",
       "      <td>0.647832</td>\n",
       "      <td>-0.304908</td>\n",
       "      <td>0.552207</td>\n",
       "      <td>-0.145407</td>\n",
       "    </tr>\n",
       "    <tr>\n",
       "      <th>4</th>\n",
       "      <td>-0.108602</td>\n",
       "      <td>1.065627</td>\n",
       "      <td>0.173991</td>\n",
       "      <td>-0.347933</td>\n",
       "      <td>-0.474429</td>\n",
       "      <td>1.519361</td>\n",
       "      <td>1.438591</td>\n",
       "      <td>-0.753015</td>\n",
       "    </tr>\n",
       "  </tbody>\n",
       "</table>\n",
       "</div>"
      ],
      "text/plain": [
       "        PC1       PC2       PC3       PC4       PC5       PC6       PC7  \\\n",
       "0  2.514325 -1.552339  0.318201  0.981064 -0.886404  0.199466 -1.105991   \n",
       "1 -1.571369  0.097692  1.035807  0.665269 -0.709478 -1.314297 -0.880970   \n",
       "2  1.117953  0.996039 -0.581080 -0.629267  0.822096 -0.760299 -0.088673   \n",
       "3 -1.787528 -0.388468 -1.064651 -0.856060  0.647832 -0.304908  0.552207   \n",
       "4 -0.108602  1.065627  0.173991 -0.347933 -0.474429  1.519361  1.438591   \n",
       "\n",
       "        PC8  \n",
       "0  0.083926  \n",
       "1  0.610945  \n",
       "2  0.170417  \n",
       "3 -0.145407  \n",
       "4 -0.753015  "
      ]
     },
     "execution_count": 29,
     "metadata": {},
     "output_type": "execute_result"
    }
   ],
   "source": [
    "# Using the dimensions obtained from the PCA to apply clustering (i.e., 8 components)\n",
    "pca = PCA(n_components=8)\n",
    "\n",
    "pca_df = pd.DataFrame(pca.fit_transform(scaled_features), columns=['PC1', 'PC2', 'PC3', 'PC4', 'PC5', 'PC6', 'PC7', 'PC8'])\n",
    "pca_df.head()\n"
   ]
  },
  {
   "cell_type": "code",
   "execution_count": 31,
   "id": "cf07c5ce-471b-4c33-82c8-5cde79d5bafb",
   "metadata": {},
   "outputs": [
    {
     "name": "stderr",
     "output_type": "stream",
     "text": [
      "C:\\Users\\Testbook\\anaconda3\\Lib\\site-packages\\sklearn\\cluster\\_kmeans.py:870: FutureWarning: The default value of `n_init` will change from 10 to 'auto' in 1.4. Set the value of `n_init` explicitly to suppress the warning\n",
      "  warnings.warn(\n",
      "C:\\Users\\Testbook\\anaconda3\\Lib\\site-packages\\sklearn\\cluster\\_kmeans.py:870: FutureWarning: The default value of `n_init` will change from 10 to 'auto' in 1.4. Set the value of `n_init` explicitly to suppress the warning\n",
      "  warnings.warn(\n",
      "C:\\Users\\Testbook\\anaconda3\\Lib\\site-packages\\sklearn\\cluster\\_kmeans.py:870: FutureWarning: The default value of `n_init` will change from 10 to 'auto' in 1.4. Set the value of `n_init` explicitly to suppress the warning\n",
      "  warnings.warn(\n",
      "C:\\Users\\Testbook\\anaconda3\\Lib\\site-packages\\sklearn\\cluster\\_kmeans.py:870: FutureWarning: The default value of `n_init` will change from 10 to 'auto' in 1.4. Set the value of `n_init` explicitly to suppress the warning\n",
      "  warnings.warn(\n",
      "C:\\Users\\Testbook\\anaconda3\\Lib\\site-packages\\sklearn\\cluster\\_kmeans.py:870: FutureWarning: The default value of `n_init` will change from 10 to 'auto' in 1.4. Set the value of `n_init` explicitly to suppress the warning\n",
      "  warnings.warn(\n",
      "C:\\Users\\Testbook\\anaconda3\\Lib\\site-packages\\sklearn\\cluster\\_kmeans.py:870: FutureWarning: The default value of `n_init` will change from 10 to 'auto' in 1.4. Set the value of `n_init` explicitly to suppress the warning\n",
      "  warnings.warn(\n",
      "C:\\Users\\Testbook\\anaconda3\\Lib\\site-packages\\sklearn\\cluster\\_kmeans.py:870: FutureWarning: The default value of `n_init` will change from 10 to 'auto' in 1.4. Set the value of `n_init` explicitly to suppress the warning\n",
      "  warnings.warn(\n",
      "C:\\Users\\Testbook\\anaconda3\\Lib\\site-packages\\sklearn\\cluster\\_kmeans.py:870: FutureWarning: The default value of `n_init` will change from 10 to 'auto' in 1.4. Set the value of `n_init` explicitly to suppress the warning\n",
      "  warnings.warn(\n",
      "C:\\Users\\Testbook\\anaconda3\\Lib\\site-packages\\sklearn\\cluster\\_kmeans.py:870: FutureWarning: The default value of `n_init` will change from 10 to 'auto' in 1.4. Set the value of `n_init` explicitly to suppress the warning\n",
      "  warnings.warn(\n",
      "C:\\Users\\Testbook\\anaconda3\\Lib\\site-packages\\sklearn\\cluster\\_kmeans.py:870: FutureWarning: The default value of `n_init` will change from 10 to 'auto' in 1.4. Set the value of `n_init` explicitly to suppress the warning\n",
      "  warnings.warn(\n",
      "C:\\Users\\Testbook\\anaconda3\\Lib\\site-packages\\sklearn\\cluster\\_kmeans.py:870: FutureWarning: The default value of `n_init` will change from 10 to 'auto' in 1.4. Set the value of `n_init` explicitly to suppress the warning\n",
      "  warnings.warn(\n",
      "C:\\Users\\Testbook\\anaconda3\\Lib\\site-packages\\sklearn\\cluster\\_kmeans.py:870: FutureWarning: The default value of `n_init` will change from 10 to 'auto' in 1.4. Set the value of `n_init` explicitly to suppress the warning\n",
      "  warnings.warn(\n",
      "C:\\Users\\Testbook\\anaconda3\\Lib\\site-packages\\sklearn\\cluster\\_kmeans.py:870: FutureWarning: The default value of `n_init` will change from 10 to 'auto' in 1.4. Set the value of `n_init` explicitly to suppress the warning\n",
      "  warnings.warn(\n"
     ]
    }
   ],
   "source": [
    "import numpy as np\n",
    "import pandas as pd\n",
    "import matplotlib.pyplot as plt\n",
    "from sklearn.preprocessing import StandardScaler\n",
    "from sklearn.decomposition import PCA\n",
    "from sklearn.impute import SimpleImputer\n",
    "from sklearn.cluster import KMeans\n",
    "cluster_errors = []\n",
    "cluster_range = range(2, 15)\n",
    "for num_clusters in cluster_range:\n",
    "    clusters = KMeans(num_clusters, random_state = 100)\n",
    "    clusters.fit(pca_df)\n",
    "    cluster_errors.append(clusters.inertia_)\n",
    "    "
   ]
  },
  {
   "cell_type": "code",
   "execution_count": 32,
   "id": "aef02b8f-d1a2-4356-bc9c-d23e3014a9d5",
   "metadata": {},
   "outputs": [
    {
     "data": {
      "image/png": "[encoded data removed]",
      "text/plain": [
       "<Figure size 1500x500 with 1 Axes>"
      ]
     },
     "metadata": {},
     "output_type": "display_data"
    }
   ],
   "source": [
    "cluster_df = pd.DataFrame({'num_clusters':cluster_range,'cluster_errors':cluster_errors})\n",
    "plt.figure(figsize=[15, 5])\n",
    "plt.plot(cluster_df['num_clusters'],cluster_df['cluster_errors'],marker='o',color='b')\n",
    "plt.show()"
   ]
  },
  {
   "cell_type": "code",
   "execution_count": 33,
   "id": "ad02562f-1387-44ca-af43-2ec470c1adbe",
   "metadata": {},
   "outputs": [
    {
     "name": "stderr",
     "output_type": "stream",
     "text": [
      "C:\\Users\\Testbook\\anaconda3\\Lib\\site-packages\\sklearn\\cluster\\_kmeans.py:870: FutureWarning: The default value of `n_init` will change from 10 to 'auto' in 1.4. Set the value of `n_init` explicitly to suppress the warning\n",
      "  warnings.warn(\n"
     ]
    },
    {
     "data": {
      "text/html": [
       "<style>#sk-container-id-1 {color: black;background-color: white;}#sk-container-id-1 pre{padding: 0;}#sk-container-id-1 div.sk-toggleable {background-color: white;}#sk-container-id-1 label.sk-toggleable__label {cursor: pointer;display: block;width: 100%;margin-bottom: 0;padding: 0.3em;box-sizing: border-box;text-align: center;}#sk-container-id-1 label.sk-toggleable__label-arrow:before {content: \"▸\";float: left;margin-right: 0.25em;color: #696969;}#sk-container-id-1 label.sk-toggleable__label-arrow:hover:before {color: black;}#sk-container-id-1 div.sk-estimator:hover label.sk-toggleable__label-arrow:before {color: black;}#sk-container-id-1 div.sk-toggleable__content {max-height: 0;max-width: 0;overflow: hidden;text-align: left;background-color: #f0f8ff;}#sk-container-id-1 div.sk-toggleable__content pre {margin: 0.2em;color: black;border-radius: 0.25em;background-color: #f0f8ff;}#sk-container-id-1 input.sk-toggleable__control:checked~div.sk-toggleable__content {max-height: 200px;max-width: 100%;overflow: auto;}#sk-container-id-1 input.sk-toggleable__control:checked~label.sk-toggleable__label-arrow:before {content: \"▾\";}#sk-container-id-1 div.sk-estimator input.sk-toggleable__control:checked~label.sk-toggleable__label {background-color: #d4ebff;}#sk-container-id-1 div.sk-label input.sk-toggleable__control:checked~label.sk-toggleable__label {background-color: #d4ebff;}#sk-container-id-1 input.sk-hidden--visually {border: 0;clip: rect(1px 1px 1px 1px);clip: rect(1px, 1px, 1px, 1px);height: 1px;margin: -1px;overflow: hidden;padding: 0;position: absolute;width: 1px;}#sk-container-id-1 div.sk-estimator {font-family: monospace;background-color: #f0f8ff;border: 1px dotted black;border-radius: 0.25em;box-sizing: border-box;margin-bottom: 0.5em;}#sk-container-id-1 div.sk-estimator:hover {background-color: #d4ebff;}#sk-container-id-1 div.sk-parallel-item::after {content: \"\";width: 100%;border-bottom: 1px solid gray;flex-grow: 1;}#sk-container-id-1 div.sk-label:hover label.sk-toggleable__label {background-color: #d4ebff;}#sk-container-id-1 div.sk-serial::before {content: \"\";position: absolute;border-left: 1px solid gray;box-sizing: border-box;top: 0;bottom: 0;left: 50%;z-index: 0;}#sk-container-id-1 div.sk-serial {display: flex;flex-direction: column;align-items: center;background-color: white;padding-right: 0.2em;padding-left: 0.2em;position: relative;}#sk-container-id-1 div.sk-item {position: relative;z-index: 1;}#sk-container-id-1 div.sk-parallel {display: flex;align-items: stretch;justify-content: center;background-color: white;position: relative;}#sk-container-id-1 div.sk-item::before, #sk-container-id-1 div.sk-parallel-item::before {content: \"\";position: absolute;border-left: 1px solid gray;box-sizing: border-box;top: 0;bottom: 0;left: 50%;z-index: -1;}#sk-container-id-1 div.sk-parallel-item {display: flex;flex-direction: column;z-index: 1;position: relative;background-color: white;}#sk-container-id-1 div.sk-parallel-item:first-child::after {align-self: flex-end;width: 50%;}#sk-container-id-1 div.sk-parallel-item:last-child::after {align-self: flex-start;width: 50%;}#sk-container-id-1 div.sk-parallel-item:only-child::after {width: 0;}#sk-container-id-1 div.sk-dashed-wrapped {border: 1px dashed gray;margin: 0 0.4em 0.5em 0.4em;box-sizing: border-box;padding-bottom: 0.4em;background-color: white;}#sk-container-id-1 div.sk-label label {font-family: monospace;font-weight: bold;display: inline-block;line-height: 1.2em;}#sk-container-id-1 div.sk-label-container {text-align: center;}#sk-container-id-1 div.sk-container {/* jupyter's `normalize.less` sets `[hidden] { display: none; }` but bootstrap.min.css set `[hidden] { display: none !important; }` so we also need the `!important` here to be able to override the default hidden behavior on the sphinx rendered scikit-learn.org. See: https://github.com/scikit-learn/scikit-learn/issues/21755 */display: inline-block !important;position: relative;}#sk-container-id-1 div.sk-text-repr-fallback {display: none;}</style><div id=\"sk-container-id-1\" class=\"sk-top-container\"><div class=\"sk-text-repr-fallback\"><pre>KMeans(n_clusters=3, random_state=100)</pre><b>In a Jupyter environment, please rerun this cell to show the HTML representation or trust the notebook. <br />On GitHub, the HTML representation is unable to render, please try loading this page with nbviewer.org.</b></div><div class=\"sk-container\" hidden><div class=\"sk-item\"><div class=\"sk-estimator sk-toggleable\"><input class=\"sk-toggleable__control sk-hidden--visually\" id=\"sk-estimator-id-1\" type=\"checkbox\" checked><label for=\"sk-estimator-id-1\" class=\"sk-toggleable__label sk-toggleable__label-arrow\">KMeans</label><div class=\"sk-toggleable__content\"><pre>KMeans(n_clusters=3, random_state=100)</pre></div></div></div></div></div>"
      ],
      "text/plain": [
       "KMeans(n_clusters=3, random_state=100)"
      ]
     },
     "execution_count": 33,
     "metadata": {},
     "output_type": "execute_result"
    }
   ],
   "source": [
    "kmeans = KMeans(n_clusters=3, random_state = 100)\n",
    "kmeans.fit(pca_df)"
   ]
  },
  {
   "cell_type": "code",
   "execution_count": 35,
   "id": "059586cd-bf3c-490a-8cf4-d52aac3aa356",
   "metadata": {},
   "outputs": [],
   "source": [
    "label = pd.DataFrame(kmeans.labels_, columns=['Label'])"
   ]
  },
  {
   "cell_type": "code",
   "execution_count": 36,
   "id": "4dc67a3b-a8dd-48ff-9223-792da41e7d98",
   "metadata": {},
   "outputs": [
    {
     "data": {
      "text/html": [
       "<div>\n",
       "<style scoped>\n",
       "    .dataframe tbody tr th:only-of-type {\n",
       "        vertical-align: middle;\n",
       "    }\n",
       "\n",
       "    .dataframe tbody tr th {\n",
       "        vertical-align: top;\n",
       "    }\n",
       "\n",
       "    .dataframe thead th {\n",
       "        text-align: right;\n",
       "    }\n",
       "</style>\n",
       "<table border=\"1\" class=\"dataframe\">\n",
       "  <thead>\n",
       "    <tr style=\"text-align: right;\">\n",
       "      <th></th>\n",
       "      <th>PC1</th>\n",
       "      <th>PC2</th>\n",
       "      <th>PC3</th>\n",
       "      <th>PC4</th>\n",
       "      <th>PC5</th>\n",
       "      <th>PC6</th>\n",
       "      <th>PC7</th>\n",
       "      <th>PC8</th>\n",
       "      <th>Label</th>\n",
       "    </tr>\n",
       "  </thead>\n",
       "  <tbody>\n",
       "    <tr>\n",
       "      <th>0</th>\n",
       "      <td>2.514325</td>\n",
       "      <td>-1.552339</td>\n",
       "      <td>0.318201</td>\n",
       "      <td>0.981064</td>\n",
       "      <td>-0.886404</td>\n",
       "      <td>0.199466</td>\n",
       "      <td>-1.105991</td>\n",
       "      <td>0.083926</td>\n",
       "      <td>1</td>\n",
       "    </tr>\n",
       "    <tr>\n",
       "      <th>1</th>\n",
       "      <td>-1.571369</td>\n",
       "      <td>0.097692</td>\n",
       "      <td>1.035807</td>\n",
       "      <td>0.665269</td>\n",
       "      <td>-0.709478</td>\n",
       "      <td>-1.314297</td>\n",
       "      <td>-0.880970</td>\n",
       "      <td>0.610945</td>\n",
       "      <td>2</td>\n",
       "    </tr>\n",
       "    <tr>\n",
       "      <th>2</th>\n",
       "      <td>1.117953</td>\n",
       "      <td>0.996039</td>\n",
       "      <td>-0.581080</td>\n",
       "      <td>-0.629267</td>\n",
       "      <td>0.822096</td>\n",
       "      <td>-0.760299</td>\n",
       "      <td>-0.088673</td>\n",
       "      <td>0.170417</td>\n",
       "      <td>0</td>\n",
       "    </tr>\n",
       "    <tr>\n",
       "      <th>3</th>\n",
       "      <td>-1.787528</td>\n",
       "      <td>-0.388468</td>\n",
       "      <td>-1.064651</td>\n",
       "      <td>-0.856060</td>\n",
       "      <td>0.647832</td>\n",
       "      <td>-0.304908</td>\n",
       "      <td>0.552207</td>\n",
       "      <td>-0.145407</td>\n",
       "      <td>2</td>\n",
       "    </tr>\n",
       "    <tr>\n",
       "      <th>4</th>\n",
       "      <td>-0.108602</td>\n",
       "      <td>1.065627</td>\n",
       "      <td>0.173991</td>\n",
       "      <td>-0.347933</td>\n",
       "      <td>-0.474429</td>\n",
       "      <td>1.519361</td>\n",
       "      <td>1.438591</td>\n",
       "      <td>-0.753015</td>\n",
       "      <td>0</td>\n",
       "    </tr>\n",
       "  </tbody>\n",
       "</table>\n",
       "</div>"
      ],
      "text/plain": [
       "        PC1       PC2       PC3       PC4       PC5       PC6       PC7  \\\n",
       "0  2.514325 -1.552339  0.318201  0.981064 -0.886404  0.199466 -1.105991   \n",
       "1 -1.571369  0.097692  1.035807  0.665269 -0.709478 -1.314297 -0.880970   \n",
       "2  1.117953  0.996039 -0.581080 -0.629267  0.822096 -0.760299 -0.088673   \n",
       "3 -1.787528 -0.388468 -1.064651 -0.856060  0.647832 -0.304908  0.552207   \n",
       "4 -0.108602  1.065627  0.173991 -0.347933 -0.474429  1.519361  1.438591   \n",
       "\n",
       "        PC8  Label  \n",
       "0  0.083926      1  \n",
       "1  0.610945      2  \n",
       "2  0.170417      0  \n",
       "3 -0.145407      2  \n",
       "4 -0.753015      0  "
      ]
     },
     "execution_count": 36,
     "metadata": {},
     "output_type": "execute_result"
    }
   ],
   "source": [
    "kmeans_df = pca_df.join(label)\n",
    "kmeans_df.head()"
   ]
  },
  {
   "cell_type": "code",
   "execution_count": 37,
   "id": "97ceb62e-677b-4c27-af93-855339a6300f",
   "metadata": {},
   "outputs": [
    {
     "data": {
      "text/plain": [
       "Label\n",
       "2    1171\n",
       "0     800\n",
       "1     269\n",
       "Name: count, dtype: int64"
      ]
     },
     "execution_count": 37,
     "metadata": {},
     "output_type": "execute_result"
    }
   ],
   "source": [
    "kmeans_df['Label'].value_counts()"
   ]
  },
  {
   "cell_type": "code",
   "execution_count": 39,
   "id": "9bca6f01-6e84-4d05-9343-2246be25ddd9",
   "metadata": {},
   "outputs": [
    {
     "ename": "NameError",
     "evalue": "name 'labels' is not defined",
     "output_type": "error",
     "traceback": [
      "\u001b[1;31m---------------------------------------------------------------------------\u001b[0m",
      "\u001b[1;31mNameError\u001b[0m                                 Traceback (most recent call last)",
      "Cell \u001b[1;32mIn[39], line 5\u001b[0m\n\u001b[0;32m      2\u001b[0m \u001b[38;5;28;01mimport\u001b[39;00m \u001b[38;5;21;01mmatplotlib\u001b[39;00m\u001b[38;5;21;01m.\u001b[39;00m\u001b[38;5;21;01mpyplot\u001b[39;00m \u001b[38;5;28;01mas\u001b[39;00m \u001b[38;5;21;01mplt\u001b[39;00m\n\u001b[0;32m      4\u001b[0m \u001b[38;5;66;03m# Assuming pca_df contains the principal components and cluster labels\u001b[39;00m\n\u001b[1;32m----> 5\u001b[0m pca_df[\u001b[38;5;124m'\u001b[39m\u001b[38;5;124mLabel\u001b[39m\u001b[38;5;124m'\u001b[39m] \u001b[38;5;241m=\u001b[39m labels  \u001b[38;5;66;03m# Ensure 'Label' column exists with cluster labels\u001b[39;00m\n\u001b[0;32m      7\u001b[0m \u001b[38;5;66;03m# Plotting the scatter plot for the first two principal components with cluster labels\u001b[39;00m\n\u001b[0;32m      8\u001b[0m sns\u001b[38;5;241m.\u001b[39mscatterplot(x\u001b[38;5;241m=\u001b[39m\u001b[38;5;124m'\u001b[39m\u001b[38;5;124mPC1\u001b[39m\u001b[38;5;124m'\u001b[39m, y\u001b[38;5;241m=\u001b[39m\u001b[38;5;124m'\u001b[39m\u001b[38;5;124mPC2\u001b[39m\u001b[38;5;124m'\u001b[39m, hue\u001b[38;5;241m=\u001b[39m\u001b[38;5;124m'\u001b[39m\u001b[38;5;124mLabel\u001b[39m\u001b[38;5;124m'\u001b[39m, data\u001b[38;5;241m=\u001b[39mpca_df, palette\u001b[38;5;241m=\u001b[39m\u001b[38;5;124m'\u001b[39m\u001b[38;5;124mviridis\u001b[39m\u001b[38;5;124m'\u001b[39m)\n",
      "\u001b[1;31mNameError\u001b[0m: name 'labels' is not defined"
     ]
    }
   ],
   "source": [
    "import seaborn as sns\n",
    "import matplotlib.pyplot as plt\n",
    "\n",
    "# Assuming pca_df contains the principal components and cluster labels\n",
    "pca_df['Label'] = labels  # Ensure 'Label' column exists with cluster labels\n",
    "\n",
    "# Plotting the scatter plot for the first two principal components with cluster labels\n",
    "sns.scatterplot(x='PC1', y='PC2', hue='Label', data=pca_df, palette='viridis')\n",
    "plt.title('Scatter Plot of PC1 vs PC2 with Cluster Labels')\n",
    "plt.show()\n"
   ]
  },
  {
   "cell_type": "code",
   "execution_count": 40,
   "id": "c6bb37ab-9114-43c4-a44f-0994c4fb537e",
   "metadata": {},
   "outputs": [
    {
     "ename": "NameError",
     "evalue": "name 'linkage' is not defined",
     "output_type": "error",
     "traceback": [
      "\u001b[1;31m---------------------------------------------------------------------------\u001b[0m",
      "\u001b[1;31mNameError\u001b[0m                                 Traceback (most recent call last)",
      "Cell \u001b[1;32mIn[40], line 2\u001b[0m\n\u001b[0;32m      1\u001b[0m plt\u001b[38;5;241m.\u001b[39mfigure(figsize\u001b[38;5;241m=\u001b[39m[\u001b[38;5;241m18\u001b[39m,\u001b[38;5;241m5\u001b[39m])\n\u001b[1;32m----> 2\u001b[0m merg \u001b[38;5;241m=\u001b[39m linkage(scaled_features, method\u001b[38;5;241m=\u001b[39m\u001b[38;5;124m'\u001b[39m\u001b[38;5;124mward\u001b[39m\u001b[38;5;124m'\u001b[39m)\n\u001b[0;32m      3\u001b[0m dendrogram(merg, leaf_rotation\u001b[38;5;241m=\u001b[39m\u001b[38;5;241m90\u001b[39m,)\n\u001b[0;32m      4\u001b[0m plt\u001b[38;5;241m.\u001b[39mxlabel(\u001b[38;5;124m'\u001b[39m\u001b[38;5;124mDatapoints\u001b[39m\u001b[38;5;124m'\u001b[39m)\n",
      "\u001b[1;31mNameError\u001b[0m: name 'linkage' is not defined"
     ]
    },
    {
     "data": {
      "text/plain": [
       "<Figure size 1800x500 with 0 Axes>"
      ]
     },
     "metadata": {},
     "output_type": "display_data"
    }
   ],
   "source": [
    "plt.figure(figsize=[18,5])\n",
    "merg = linkage(scaled_features, method='ward')\n",
    "dendrogram(merg, leaf_rotation=90,)\n",
    "plt.xlabel('Datapoints')\n",
    "plt.ylabel('Euclidean distance')\n",
    "plt.show()"
   ]
  },
  {
   "cell_type": "markdown",
   "id": "54f5098f-47b6-4fbb-ad3e-7b9503c01860",
   "metadata": {},
   "source": [
    "**Q17. Apply Agglomerative clustering and segment the data (Use Original data for clustering), and perform cluster analysis by doing bivariate analysis between the cluster label and different features and write your observations.**"
   ]
  },
  {
   "cell_type": "code",
   "execution_count": null,
   "id": "4a636a99-8b75-409d-9b40-a0ce4f95796c",
   "metadata": {},
   "outputs": [],
   "source": [
    "from sklearn.metrics import silhouette_score"
   ]
  },
  {
   "cell_type": "code",
   "execution_count": null,
   "id": "4a83b30b-4402-448b-879b-1a3c9300a26d",
   "metadata": {},
   "outputs": [],
   "source": [
    "for i in range(2, 15):\n",
    "    hier = AgglomerativeClustering(n_clusters=i)\n",
    "    hier = hier.fit(scaled_features_df)\n",
    "    labels = hier.fit_predict(scaled_features_df)\n",
    "    print(i,silhouette_score(scaled_features_df,labels))"
   ]
  },
  {
   "cell_type": "code",
   "execution_count": null,
   "id": "8880b2f5-9ff3-48bc-866b-deab075620d4",
   "metadata": {},
   "outputs": [],
   "source": [
    "##building hierarchical clustering model using the optimal clusters as 3 using original data \n",
    "hie_cluster = AgglomerativeClustering(n_clusters=3, affinity='euclidean',linkage = 'ward')\n",
    "hie_cluster_model = hie_cluster.fit(scaled_features_df)"
   ]
  },
  {
   "cell_type": "code",
   "execution_count": 41,
   "id": "502f9294-a8d4-4d03-9845-a5655776f421",
   "metadata": {},
   "outputs": [
    {
     "ename": "NameError",
     "evalue": "name 'df_label1' is not defined",
     "output_type": "error",
     "traceback": [
      "\u001b[1;31m---------------------------------------------------------------------------\u001b[0m",
      "\u001b[1;31mNameError\u001b[0m                                 Traceback (most recent call last)",
      "Cell \u001b[1;32mIn[41], line 2\u001b[0m\n\u001b[0;32m      1\u001b[0m \u001b[38;5;66;03m##df_label1 = pd.DataFrame(hie_cluster_model.lables_columns=['Labels'])\u001b[39;00m\n\u001b[1;32m----> 2\u001b[0m df_label1\u001b[38;5;241m.\u001b[39mhead(\u001b[38;5;241m5\u001b[39m)\n",
      "\u001b[1;31mNameError\u001b[0m: name 'df_label1' is not defined"
     ]
    }
   ],
   "source": [
    "## Creating a dataframe of the labels \n",
    "df_label1 = pd.DataFrame(hie_cluster_model.lables_columns=['Labels'])\n",
    "df_label1.head(5)"
   ]
  },
  {
   "cell_type": "code",
   "execution_count": null,
   "id": "67a51af9-d6ac-4d39-b694-9c1710adae48",
   "metadata": {},
   "outputs": [],
   "source": []
  }
 ],
 "metadata": {
  "kernelspec": {
   "display_name": "Python 3 (ipykernel)",
   "language": "python",
   "name": "python3"
  },
  "language_info": {
   "codemirror_mode": {
    "name": "ipython",
    "version": 3
   },
   "file_extension": ".py",
   "mimetype": "text/x-python",
   "name": "python",
   "nbconvert_exporter": "python",
   "pygments_lexer": "ipython3",
   "version": "3.11.7"
  }
 },
 "nbformat": 4,
 "nbformat_minor": 5
}
